{
 "cells": [
  {
   "cell_type": "code",
   "execution_count": 21,
   "id": "dc63c928",
   "metadata": {},
   "outputs": [],
   "source": [
    "# 1. Importation des librairies\n",
    "import pandas as pd\n",
    "import numpy as np\n",
    "import matplotlib.pyplot as plt\n",
    "import seaborn as sns\n",
    "\n",
    "from sklearn.model_selection import train_test_split\n",
    "from sklearn.preprocessing import StandardScaler\n",
    "from sklearn.linear_model import LogisticRegression\n",
    "from sklearn.ensemble import RandomForestClassifier, GradientBoostingClassifier\n",
    "from sklearn.metrics import accuracy_score, precision_score, recall_score, confusion_matrix, classification_report\n"
   ]
  },
  {
   "cell_type": "code",
   "execution_count": null,
   "id": "bb462a52",
   "metadata": {},
   "outputs": [
    {
     "data": {
      "text/html": [
       "<div>\n",
       "<style scoped>\n",
       "    .dataframe tbody tr th:only-of-type {\n",
       "        vertical-align: middle;\n",
       "    }\n",
       "\n",
       "    .dataframe tbody tr th {\n",
       "        vertical-align: top;\n",
       "    }\n",
       "\n",
       "    .dataframe thead th {\n",
       "        text-align: right;\n",
       "    }\n",
       "</style>\n",
       "<table border=\"1\" class=\"dataframe\">\n",
       "  <thead>\n",
       "    <tr style=\"text-align: right;\">\n",
       "      <th></th>\n",
       "      <th>name</th>\n",
       "      <th>symbol</th>\n",
       "      <th>current_price</th>\n",
       "      <th>market_cap</th>\n",
       "      <th>total_volume</th>\n",
       "      <th>price_change_24h_%</th>\n",
       "    </tr>\n",
       "  </thead>\n",
       "  <tbody>\n",
       "    <tr>\n",
       "      <th>0</th>\n",
       "      <td>Bitcoin</td>\n",
       "      <td>btc</td>\n",
       "      <td>82108.000000</td>\n",
       "      <td>1631065775540</td>\n",
       "      <td>4.530576e+10</td>\n",
       "      <td>1.08770</td>\n",
       "    </tr>\n",
       "    <tr>\n",
       "      <th>1</th>\n",
       "      <td>Ethereum</td>\n",
       "      <td>eth</td>\n",
       "      <td>1556.640000</td>\n",
       "      <td>188063081723</td>\n",
       "      <td>1.929149e+10</td>\n",
       "      <td>-0.73754</td>\n",
       "    </tr>\n",
       "    <tr>\n",
       "      <th>2</th>\n",
       "      <td>Tether</td>\n",
       "      <td>usdt</td>\n",
       "      <td>0.999564</td>\n",
       "      <td>144278939305</td>\n",
       "      <td>6.793027e+10</td>\n",
       "      <td>0.02501</td>\n",
       "    </tr>\n",
       "    <tr>\n",
       "      <th>3</th>\n",
       "      <td>XRP</td>\n",
       "      <td>xrp</td>\n",
       "      <td>2.000000</td>\n",
       "      <td>116640849587</td>\n",
       "      <td>3.362881e+09</td>\n",
       "      <td>-0.79596</td>\n",
       "    </tr>\n",
       "    <tr>\n",
       "      <th>4</th>\n",
       "      <td>BNB</td>\n",
       "      <td>bnb</td>\n",
       "      <td>584.030000</td>\n",
       "      <td>85211183058</td>\n",
       "      <td>6.718375e+08</td>\n",
       "      <td>1.58406</td>\n",
       "    </tr>\n",
       "  </tbody>\n",
       "</table>\n",
       "</div>"
      ],
      "text/plain": [
       "       name symbol  current_price     market_cap  total_volume  \\\n",
       "0   Bitcoin    btc   82108.000000  1631065775540  4.530576e+10   \n",
       "1  Ethereum    eth    1556.640000   188063081723  1.929149e+10   \n",
       "2    Tether   usdt       0.999564   144278939305  6.793027e+10   \n",
       "3       XRP    xrp       2.000000   116640849587  3.362881e+09   \n",
       "4       BNB    bnb     584.030000    85211183058  6.718375e+08   \n",
       "\n",
       "   price_change_24h_%  \n",
       "0             1.08770  \n",
       "1            -0.73754  \n",
       "2             0.02501  \n",
       "3            -0.79596  \n",
       "4             1.58406  "
      ]
     },
     "execution_count": 22,
     "metadata": {},
     "output_type": "execute_result"
    }
   ],
   "source": [
    "# 2. Chargement des données\n",
    "file_path = \"../cryptos_preprocessed.json\"  # <-- remplace par votre vrai chemin\n",
    "df = pd.read_json(file_path)\n",
    "df.head()"
   ]
  },
  {
   "cell_type": "code",
   "execution_count": 23,
   "id": "04fd0d24",
   "metadata": {},
   "outputs": [
    {
     "data": {
      "text/html": [
       "<div>\n",
       "<style scoped>\n",
       "    .dataframe tbody tr th:only-of-type {\n",
       "        vertical-align: middle;\n",
       "    }\n",
       "\n",
       "    .dataframe tbody tr th {\n",
       "        vertical-align: top;\n",
       "    }\n",
       "\n",
       "    .dataframe thead th {\n",
       "        text-align: right;\n",
       "    }\n",
       "</style>\n",
       "<table border=\"1\" class=\"dataframe\">\n",
       "  <thead>\n",
       "    <tr style=\"text-align: right;\">\n",
       "      <th></th>\n",
       "      <th>name</th>\n",
       "      <th>price_change_24h_%</th>\n",
       "      <th>price_up</th>\n",
       "    </tr>\n",
       "  </thead>\n",
       "  <tbody>\n",
       "    <tr>\n",
       "      <th>0</th>\n",
       "      <td>Bitcoin</td>\n",
       "      <td>1.08770</td>\n",
       "      <td>1</td>\n",
       "    </tr>\n",
       "    <tr>\n",
       "      <th>1</th>\n",
       "      <td>Ethereum</td>\n",
       "      <td>-0.73754</td>\n",
       "      <td>0</td>\n",
       "    </tr>\n",
       "    <tr>\n",
       "      <th>2</th>\n",
       "      <td>Tether</td>\n",
       "      <td>0.02501</td>\n",
       "      <td>1</td>\n",
       "    </tr>\n",
       "    <tr>\n",
       "      <th>3</th>\n",
       "      <td>XRP</td>\n",
       "      <td>-0.79596</td>\n",
       "      <td>0</td>\n",
       "    </tr>\n",
       "    <tr>\n",
       "      <th>4</th>\n",
       "      <td>BNB</td>\n",
       "      <td>1.58406</td>\n",
       "      <td>1</td>\n",
       "    </tr>\n",
       "    <tr>\n",
       "      <th>...</th>\n",
       "      <td>...</td>\n",
       "      <td>...</td>\n",
       "      <td>...</td>\n",
       "    </tr>\n",
       "    <tr>\n",
       "      <th>495</th>\n",
       "      <td>Yield Guild Games</td>\n",
       "      <td>2.23587</td>\n",
       "      <td>1</td>\n",
       "    </tr>\n",
       "    <tr>\n",
       "      <th>496</th>\n",
       "      <td>Solv Protocol SolvBTC Jupiter</td>\n",
       "      <td>-1.34201</td>\n",
       "      <td>0</td>\n",
       "    </tr>\n",
       "    <tr>\n",
       "      <th>497</th>\n",
       "      <td>Decentralized Social</td>\n",
       "      <td>-4.69414</td>\n",
       "      <td>0</td>\n",
       "    </tr>\n",
       "    <tr>\n",
       "      <th>498</th>\n",
       "      <td>Neiro</td>\n",
       "      <td>1.62130</td>\n",
       "      <td>1</td>\n",
       "    </tr>\n",
       "    <tr>\n",
       "      <th>499</th>\n",
       "      <td>Adventure Gold</td>\n",
       "      <td>5.19737</td>\n",
       "      <td>1</td>\n",
       "    </tr>\n",
       "  </tbody>\n",
       "</table>\n",
       "<p>500 rows × 3 columns</p>\n",
       "</div>"
      ],
      "text/plain": [
       "                              name  price_change_24h_%  price_up\n",
       "0                          Bitcoin             1.08770         1\n",
       "1                         Ethereum            -0.73754         0\n",
       "2                           Tether             0.02501         1\n",
       "3                              XRP            -0.79596         0\n",
       "4                              BNB             1.58406         1\n",
       "..                             ...                 ...       ...\n",
       "495              Yield Guild Games             2.23587         1\n",
       "496  Solv Protocol SolvBTC Jupiter            -1.34201         0\n",
       "497           Decentralized Social            -4.69414         0\n",
       "498                          Neiro             1.62130         1\n",
       "499                 Adventure Gold             5.19737         1\n",
       "\n",
       "[500 rows x 3 columns]"
      ]
     },
     "execution_count": 23,
     "metadata": {},
     "output_type": "execute_result"
    }
   ],
   "source": [
    "# 3. Création de la variable cible\n",
    "df['price_up'] = (df['price_change_24h_%'] > 0).astype(int)\n",
    "df[['name', 'price_change_24h_%', 'price_up']]"
   ]
  },
  {
   "cell_type": "code",
   "execution_count": 24,
   "id": "36d9318d",
   "metadata": {},
   "outputs": [],
   "source": [
    "# 4. Sélection des features\n",
    "features = ['market_cap', 'total_volume', 'current_price']\n",
    "X = df[features]\n",
    "y = df['price_up']"
   ]
  },
  {
   "cell_type": "code",
   "execution_count": 25,
   "id": "7a4366fd",
   "metadata": {},
   "outputs": [],
   "source": [
    "# 5. Division train/test\n",
    "X_train, X_test, y_train, y_test = train_test_split(X, y, test_size=0.3, random_state=42)"
   ]
  },
  {
   "cell_type": "code",
   "execution_count": 26,
   "id": "7640ecdc",
   "metadata": {},
   "outputs": [],
   "source": [
    "# 6. Standardisation des données\n",
    "scaler = StandardScaler()\n",
    "X_train_scaled = scaler.fit_transform(X_train)\n",
    "X_test_scaled = scaler.transform(X_test)"
   ]
  },
  {
   "cell_type": "markdown",
   "id": "acc4ce8f",
   "metadata": {},
   "source": [
    "Entraînement et évaluation de plusieurs modèles"
   ]
  },
  {
   "cell_type": "code",
   "execution_count": 27,
   "id": "defec3ff",
   "metadata": {},
   "outputs": [
    {
     "name": "stdout",
     "output_type": "stream",
     "text": [
      "Logistic Regression\n",
      "              precision    recall  f1-score   support\n",
      "\n",
      "           0       0.00      0.00      0.00        49\n",
      "           1       0.67      0.98      0.80       101\n",
      "\n",
      "    accuracy                           0.66       150\n",
      "   macro avg       0.33      0.49      0.40       150\n",
      "weighted avg       0.45      0.66      0.54       150\n",
      "\n"
     ]
    },
    {
     "data": {
      "image/png": "[encoded data removed]",
      "text/plain": [
       "<Figure size 432x288 with 2 Axes>"
      ]
     },
     "metadata": {
      "needs_background": "light"
     },
     "output_type": "display_data"
    }
   ],
   "source": [
    "#Logistic Regression\n",
    "\n",
    "logreg = LogisticRegression()\n",
    "logreg.fit(X_train_scaled, y_train)\n",
    "y_pred_logreg = logreg.predict(X_test_scaled)\n",
    "\n",
    "print(\"Logistic Regression\")\n",
    "print(classification_report(y_test, y_pred_logreg))\n",
    "sns.heatmap(confusion_matrix(y_test, y_pred_logreg), annot=True, fmt=\"d\", cmap=\"Blues\")\n",
    "plt.title(\"Confusion Matrix - Logistic Regression\")\n",
    "plt.show()"
   ]
  },
  {
   "cell_type": "code",
   "execution_count": 28,
   "id": "335740ad",
   "metadata": {},
   "outputs": [
    {
     "name": "stdout",
     "output_type": "stream",
     "text": [
      "Random Forest\n",
      "              precision    recall  f1-score   support\n",
      "\n",
      "           0       0.52      0.55      0.53        49\n",
      "           1       0.78      0.75      0.76       101\n",
      "\n",
      "    accuracy                           0.69       150\n",
      "   macro avg       0.65      0.65      0.65       150\n",
      "weighted avg       0.69      0.69      0.69       150\n",
      "\n"
     ]
    },
    {
     "data": {
      "image/png": "[encoded data removed]",
      "text/plain": [
       "<Figure size 432x288 with 2 Axes>"
      ]
     },
     "metadata": {
      "needs_background": "light"
     },
     "output_type": "display_data"
    }
   ],
   "source": [
    "# Random Forest\n",
    "\n",
    "rf = RandomForestClassifier(random_state=42)\n",
    "rf.fit(X_train, y_train)\n",
    "y_pred_rf = rf.predict(X_test)\n",
    "\n",
    "print(\"Random Forest\")\n",
    "print(classification_report(y_test, y_pred_rf))\n",
    "sns.heatmap(confusion_matrix(y_test, y_pred_rf), annot=True, fmt=\"d\", cmap=\"Greens\")\n",
    "plt.title(\"Confusion Matrix - Random Forest\")\n",
    "plt.show()"
   ]
  },
  {
   "cell_type": "code",
   "execution_count": 29,
   "id": "d1d1097c",
   "metadata": {},
   "outputs": [
    {
     "name": "stdout",
     "output_type": "stream",
     "text": [
      "Gradient Boosting\n",
      "              precision    recall  f1-score   support\n",
      "\n",
      "           0       0.49      0.41      0.44        49\n",
      "           1       0.73      0.79      0.76       101\n",
      "\n",
      "    accuracy                           0.67       150\n",
      "   macro avg       0.61      0.60      0.60       150\n",
      "weighted avg       0.65      0.67      0.66       150\n",
      "\n"
     ]
    },
    {
     "data": {
      "image/png": "[encoded data removed]",
      "text/plain": [
       "<Figure size 432x288 with 2 Axes>"
      ]
     },
     "metadata": {
      "needs_background": "light"
     },
     "output_type": "display_data"
    }
   ],
   "source": [
    "# Gradient Boosting\n",
    "\n",
    "gb = GradientBoostingClassifier(random_state=42)\n",
    "gb.fit(X_train, y_train)\n",
    "y_pred_gb = gb.predict(X_test)\n",
    "\n",
    "print(\"Gradient Boosting\")\n",
    "print(classification_report(y_test, y_pred_gb))\n",
    "sns.heatmap(confusion_matrix(y_test, y_pred_gb), annot=True, fmt=\"d\", cmap=\"Purples\")\n",
    "plt.title(\"Confusion Matrix - Gradient Boosting\")\n",
    "plt.show()"
   ]
  },
  {
   "cell_type": "markdown",
   "id": "a35d5959",
   "metadata": {},
   "source": [
    "Résumé des performances"
   ]
  },
  {
   "cell_type": "code",
   "execution_count": 30,
   "id": "d34de210",
   "metadata": {},
   "outputs": [
    {
     "data": {
      "text/html": [
       "<div>\n",
       "<style scoped>\n",
       "    .dataframe tbody tr th:only-of-type {\n",
       "        vertical-align: middle;\n",
       "    }\n",
       "\n",
       "    .dataframe tbody tr th {\n",
       "        vertical-align: top;\n",
       "    }\n",
       "\n",
       "    .dataframe thead th {\n",
       "        text-align: right;\n",
       "    }\n",
       "</style>\n",
       "<table border=\"1\" class=\"dataframe\">\n",
       "  <thead>\n",
       "    <tr style=\"text-align: right;\">\n",
       "      <th></th>\n",
       "      <th>Model</th>\n",
       "      <th>Accuracy</th>\n",
       "      <th>Precision</th>\n",
       "      <th>Recall</th>\n",
       "    </tr>\n",
       "  </thead>\n",
       "  <tbody>\n",
       "    <tr>\n",
       "      <th>0</th>\n",
       "      <td>Logistic Regression</td>\n",
       "      <td>0.660000</td>\n",
       "      <td>0.668919</td>\n",
       "      <td>0.980198</td>\n",
       "    </tr>\n",
       "    <tr>\n",
       "      <th>1</th>\n",
       "      <td>Random Forest</td>\n",
       "      <td>0.686667</td>\n",
       "      <td>0.775510</td>\n",
       "      <td>0.752475</td>\n",
       "    </tr>\n",
       "    <tr>\n",
       "      <th>2</th>\n",
       "      <td>Gradient Boosting</td>\n",
       "      <td>0.666667</td>\n",
       "      <td>0.733945</td>\n",
       "      <td>0.792079</td>\n",
       "    </tr>\n",
       "  </tbody>\n",
       "</table>\n",
       "</div>"
      ],
      "text/plain": [
       "                 Model  Accuracy  Precision    Recall\n",
       "0  Logistic Regression  0.660000   0.668919  0.980198\n",
       "1        Random Forest  0.686667   0.775510  0.752475\n",
       "2    Gradient Boosting  0.666667   0.733945  0.792079"
      ]
     },
     "execution_count": 30,
     "metadata": {},
     "output_type": "execute_result"
    }
   ],
   "source": [
    "models = {\n",
    "    \"Logistic Regression\": (y_test, y_pred_logreg),\n",
    "    \"Random Forest\": (y_test, y_pred_rf),\n",
    "    \"Gradient Boosting\": (y_test, y_pred_gb)\n",
    "}\n",
    "\n",
    "summary = []\n",
    "for name, (yt, yp) in models.items():\n",
    "    acc = accuracy_score(yt, yp)\n",
    "    prec = precision_score(yt, yp, zero_division=0)\n",
    "    rec = recall_score(yt, yp, zero_division=0)\n",
    "    summary.append([name, acc, prec, rec])\n",
    "\n",
    "df_summary = pd.DataFrame(summary, columns=[\"Model\", \"Accuracy\", \"Precision\", \"Recall\"])\n",
    "df_summary"
   ]
  },
  {
   "cell_type": "markdown",
   "id": "8f0c97d7",
   "metadata": {},
   "source": [
    "Visualisation des données après séparation en classes"
   ]
  },
  {
   "cell_type": "code",
   "execution_count": 31,
   "id": "ebdfd03b",
   "metadata": {},
   "outputs": [
    {
     "data": {
      "image/png": "[encoded data removed]",
      "text/plain": [
       "<Figure size 720x432 with 1 Axes>"
      ]
     },
     "metadata": {
      "needs_background": "light"
     },
     "output_type": "display_data"
    }
   ],
   "source": [
    "# Color map pour les deux classes\n",
    "colors = {0: 'red', 1: 'green'}\n",
    "\n",
    "plt.figure(figsize=(10, 6))\n",
    "for label in df['price_up'].unique():\n",
    "    subset = df[df['price_up'] == label]\n",
    "    plt.scatter(subset['market_cap'], subset['total_volume'],\n",
    "                c=colors[label], label=f\"price_up = {label}\", alpha=0.7)\n",
    "\n",
    "plt.xlabel('Market Cap')\n",
    "plt.ylabel('Total Volume')\n",
    "plt.title('Répartition des cryptos selon Market Cap & Volume (par tendance)')\n",
    "plt.legend()\n",
    "plt.grid(True)\n",
    "plt.tight_layout()\n",
    "plt.show()"
   ]
  },
  {
   "cell_type": "code",
   "execution_count": 32,
   "id": "c653b265",
   "metadata": {},
   "outputs": [
    {
     "data": {
      "image/png": "[encoded data removed]",
      "text/plain": [
       "<Figure size 590.5x540 with 12 Axes>"
      ]
     },
     "metadata": {
      "needs_background": "light"
     },
     "output_type": "display_data"
    }
   ],
   "source": [
    "import seaborn as sns\n",
    "\n",
    "sns.pairplot(df[['market_cap', 'total_volume', 'current_price', 'price_up']],\n",
    "             hue='price_up', palette={0: 'red', 1: 'green'})\n",
    "plt.suptitle(\"Pairplot des features avec la cible 'price_up'\", y=1.02)\n",
    "plt.show()"
   ]
  },
  {
   "cell_type": "code",
   "execution_count": null,
   "id": "a20b3b16",
   "metadata": {},
   "outputs": [],
   "source": []
  }
 ],
 "metadata": {
  "kernelspec": {
   "display_name": "Python 3 (ipykernel)",
   "language": "python",
   "name": "python3"
  },
  "language_info": {
   "codemirror_mode": {
    "name": "ipython",
    "version": 3
   },
   "file_extension": ".py",
   "mimetype": "text/x-python",
   "name": "python",
   "nbconvert_exporter": "python",
   "pygments_lexer": "ipython3",
   "version": "3.9.7"
  }
 },
 "nbformat": 4,
 "nbformat_minor": 5
}
